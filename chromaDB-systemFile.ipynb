{
 "cells": [
  {
   "cell_type": "code",
   "execution_count": 1,
   "id": "ddc7a8f7-ac5b-44d7-ab78-368f77f96195",
   "metadata": {},
   "outputs": [],
   "source": [
    "import numpy as np\n",
    "import pandas as pd\n",
    "\n",
    "df = pd.read_csv('embedded_df_30_percent.csv')"
   ]
  },
  {
   "cell_type": "code",
   "execution_count": 2,
   "id": "ad666a00-9085-4571-94aa-00692ed41c08",
   "metadata": {},
   "outputs": [],
   "source": [
    "import sqlite3\n"
   ]
  },
  {
   "cell_type": "code",
   "execution_count": 3,
   "id": "ed241e79-37af-4511-b5b6-fba75c43c27e",
   "metadata": {},
   "outputs": [],
   "source": [
    "db_path = 'database/chromadb_2.db'\n",
    "conn = sqlite3.connect(db_path)"
   ]
  },
  {
   "cell_type": "code",
   "execution_count": 4,
   "id": "8fc28f63-7f8a-4590-bb7c-779c04c4d515",
   "metadata": {},
   "outputs": [
    {
     "data": {
      "text/plain": [
       "24749"
      ]
     },
     "execution_count": 4,
     "metadata": {},
     "output_type": "execute_result"
    }
   ],
   "source": [
    "df.to_sql(\"data30\", conn, if_exists=\"replace\", index=False)\n"
   ]
  },
  {
   "cell_type": "code",
   "execution_count": 5,
   "id": "fb129d43-497e-44bd-8387-86ea410c4ad1",
   "metadata": {},
   "outputs": [
    {
     "name": "stdout",
     "output_type": "stream",
     "text": [
      "DataFrame from            num                                               name  \\\n",
      "0      9257755                         777.charlie.(2022).eng.1cd   \n",
      "1      9317293              elite.s06.e07.mascaras.(2022).eng.1cd   \n",
      "2      9254734  survivor.s25.e14.million.dollar.question.(2012...   \n",
      "3      9490657                         forgiveness.(2021).eng.1cd   \n",
      "4      9200853               la.brea.s01.e01.pilot.(2021).eng.1cd   \n",
      "...        ...                                                ...   \n",
      "24744  9287831      nova.s23.e11.einstein.revealed.(1996).eng.1cd   \n",
      "24745  9289180            super.pumped.s01.e03.war.(2022).eng.1cd   \n",
      "24746  9347462       unforgettable.s02.e10.manhunt.(2014).eng.1cd   \n",
      "24747  9317464  the.cuphead.show.s03.e05.holiday.treedition.(2...   \n",
      "24748  9288095   tales.of.the.jedi.s01.e02.justice.(2022).eng.1cd   \n",
      "\n",
      "                                                 content  \\\n",
      "0      support us and become vip member to remove all...   \n",
      "1      emergency use the free code joinnow at wwwplay...   \n",
      "2      jeff survivor its toughest and most dangerous ...   \n",
      "3      muffled yelling man you fucking bitch muffled ...   \n",
      "4      take a look outside its a beautiful day yeah y...   \n",
      "...                                                  ...   \n",
      "24744  tonight on nova his name issynonymous with gen...   \n",
      "24745  previously on super pumped hes just gonna see ...   \n",
      "24746  crickets chirping is deprecated pleaseimplemen...   \n",
      "24747  use the free code joinnow at wwwplayshipseu wh...   \n",
      "24748  support us and become vip member to remove all...   \n",
      "\n",
      "                                            chunked_text  \\\n",
      "0      ['support us and become vip member to remove a...   \n",
      "1      ['emergency use the free code joinnow at wwwpl...   \n",
      "2      ['jeff survivor its toughest and most dangerou...   \n",
      "3      ['muffled yelling man you fucking bitch muffle...   \n",
      "4      ['take a look outside its a beautiful day yeah...   \n",
      "...                                                  ...   \n",
      "24744  ['tonight on nova his name issynonymous with g...   \n",
      "24745  ['previously on super pumped hes just gonna se...   \n",
      "24746  ['crickets chirping is deprecated pleaseimplem...   \n",
      "24747  ['use the free code joinnow at wwwplayshipseu ...   \n",
      "24748  ['support us and become vip member to remove a...   \n",
      "\n",
      "                                        chunk_embeddings  \n",
      "0      [[-0.03645332 -0.10980503 -0.0092299  ... -0.0...  \n",
      "1      [[-5.68915568e-02 -2.23957822e-02  1.29391812e...  \n",
      "2      [[-0.05278429 -0.05607428  0.03489488 ... -0.0...  \n",
      "3      [[-2.68533286e-02 -4.45754975e-02  5.19688278e...  \n",
      "4      [[-0.02156112 -0.01226372  0.06540654 ...  0.0...  \n",
      "...                                                  ...  \n",
      "24744  [[-0.05798728  0.01448972 -0.00011158 ... -0.0...  \n",
      "24745  [[-0.02402716 -0.02026699 -0.01742498 ... -0.0...  \n",
      "24746  [[ 0.07517278 -0.02939672  0.07996037 ...  0.0...  \n",
      "24747  [[-3.59914303e-02  3.63263339e-02  1.38961179e...  \n",
      "24748  [[-1.37725798e-02 -6.04154207e-02 -2.46705022e...  \n",
      "\n",
      "[24749 rows x 5 columns] is successfully saved to ChromaDB using SQLite: database/chromadb_2.db\n"
     ]
    }
   ],
   "source": [
    "print(f\"DataFrame from {df} is successfully saved to ChromaDB using SQLite: {db_path}\")\n"
   ]
  },
  {
   "cell_type": "code",
   "execution_count": 6,
   "id": "16fc28e7-3525-4863-899a-cf06b2bdfcef",
   "metadata": {},
   "outputs": [
    {
     "data": {
      "text/plain": [
       "131072"
      ]
     },
     "execution_count": 6,
     "metadata": {},
     "output_type": "execute_result"
    }
   ],
   "source": [
    "import csv\n",
    "csv.field_size_limit(100000000)\n"
   ]
  },
  {
   "cell_type": "code",
   "execution_count": 7,
   "id": "4b6245a5-60e8-4107-8dab-882125d3b690",
   "metadata": {},
   "outputs": [],
   "source": [
    "with open('embedded_df_30_percent.csv') as file:\n",
    "    lines = csv.reader(file)\n",
    "    documents = []\n",
    "    metadatas = []\n",
    "    ids = []\n",
    "    id = 1\n",
    "\n",
    "    for i, line in enumerate(lines):\n",
    "        if i==0:\n",
    "            # Skipping first row (the column headers)\n",
    "            continue\n",
    "\n",
    "        documents.append(line[1])\n",
    "        metadatas.append({\"item_id\": line[0]})\n",
    "        ids.append(str(id))\n",
    "        id+=1"
   ]
  },
  {
   "cell_type": "code",
   "execution_count": 8,
   "id": "22e4973e-95b9-4ece-91e6-e245ab7bab3f",
   "metadata": {},
   "outputs": [],
   "source": [
    "# # !pip install chromadb\n",
    "# # !pip install sentence!\n",
    "# !pip list"
   ]
  },
  {
   "cell_type": "code",
   "execution_count": 9,
   "id": "b90f7c27-4845-473c-80f8-f87e2d136629",
   "metadata": {},
   "outputs": [],
   "source": [
    "import chromadb\n",
    "from chromadb.utils import embedding_functions\n",
    "chroma_client_1 = chromadb.PersistentClient(path=\"my_chromadb1\")"
   ]
  },
  {
   "cell_type": "code",
   "execution_count": 10,
   "id": "6689e90f-fbd8-43ab-aff6-ce79adbbcf7b",
   "metadata": {},
   "outputs": [],
   "source": [
    "sentence_transformer_ef = embedding_functions.SentenceTransformerEmbeddingFunction(model_name=\"all-MiniLM-L6-v2\")\n",
    "collection_1 = chroma_client_1.get_or_create_collection(name=\"my_collection_1\", embedding_function=sentence_transformer_ef,metadata ={\"hnsw:space\":\"cosine\"})"
   ]
  },
  {
   "cell_type": "code",
   "execution_count": 11,
   "id": "26d16506-f9a5-44ca-8fec-bbf916bb578f",
   "metadata": {},
   "outputs": [],
   "source": [
    "collection_1.add(\n",
    "    documents=documents,\n",
    "    metadatas=metadatas,\n",
    "    ids=ids\n",
    ")"
   ]
  },
  {
   "cell_type": "code",
   "execution_count": 12,
   "id": "e41de64b-10bb-42ce-a237-f9c8e3b6c19d",
   "metadata": {},
   "outputs": [
    {
     "name": "stdout",
     "output_type": "stream",
     "text": [
      "- little.from.the.fish.shop.(2015).eng.1cd, (https://www.opensubtitles.org/en/subtitles/9219769)\n",
      "- chicken.little.(2005).eng.1cd, (https://www.opensubtitles.org/en/subtitles/9408134)\n",
      "- tiny.house.hunters.s02.e19.charleston.couple.goes.tiny.(2016).eng.1cd, (https://www.opensubtitles.org/en/subtitles/9416340)\n",
      "- shut.up.little.man.an.audio.misadventure.(2011).eng.1cd, (https://www.opensubtitles.org/en/subtitles/9227749)\n",
      "- wonderful.things.(1958).eng.1cd, (https://www.opensubtitles.org/en/subtitles/9363437)\n",
      "- little.night.hunter.(2012).eng.1cd, (https://www.opensubtitles.org/en/subtitles/9323994)\n",
      "- the.munsters.s01.e25.come.back.little.googie.(1965).eng.1cd, (https://www.opensubtitles.org/en/subtitles/9321496)\n",
      "- tiny.house.hunters.s04.e15.traveling.couple.builds.tiny.(2017).eng.1cd, (https://www.opensubtitles.org/en/subtitles/9447630)\n",
      "- tiny.house.hunters.military.couple.goes.tiny.().eng.1cd, (https://www.opensubtitles.org/en/subtitles/9447640)\n",
      "- little.accidents.(2014).eng.1cd, (https://www.opensubtitles.org/en/subtitles/9229770)\n"
     ]
    }
   ],
   "source": [
    "# results = collection_1.query(\n",
    "#     query_texts=[\"got a little something for you man\"],\n",
    "#     n_results=10,\n",
    "#     include=['documents', 'distances', 'metadatas']\n",
    "# )\n",
    "\n",
    "# for document in results['documents'][0]:\n",
    "#     print(f\"- {document}\")\n",
    "\n",
    "\n",
    "# Example result from a collection query\n",
    "results = collection_1.query(\n",
    "    query_texts=[\"got a little something for you man\"],\n",
    "    n_results=10,\n",
    "    include=['documents', 'distances', 'metadatas']\n",
    ")\n",
    "\n",
    "# Ensure we're accessing the correct keys and indices\n",
    "documents = results['documents'][0]  # Get the first list of documents\n",
    "metadatas = results['metadatas'][0]  # Get the first list of metadatas\n",
    "\n",
    "# Loop through the documents and metadata together\n",
    "for document, metadata in zip(documents, metadatas):\n",
    "    item_id = metadata['item_id']  # Extract 'item_id' from the metadata\n",
    "    print(f\"- {document}, (https://www.opensubtitles.org/en/subtitles/{item_id})\")  # Print formatted document and item_id\n"
   ]
  },
  {
   "cell_type": "code",
   "execution_count": null,
   "id": "3ce0222d-a7ac-4433-a279-3bb421c84bb4",
   "metadata": {},
   "outputs": [],
   "source": []
  }
 ],
 "metadata": {
  "kernelspec": {
   "display_name": "Python 3 (ipykernel)",
   "language": "python",
   "name": "python3"
  },
  "language_info": {
   "codemirror_mode": {
    "name": "ipython",
    "version": 3
   },
   "file_extension": ".py",
   "mimetype": "text/x-python",
   "name": "python",
   "nbconvert_exporter": "python",
   "pygments_lexer": "ipython3",
   "version": "3.11.2"
  }
 },
 "nbformat": 4,
 "nbformat_minor": 5
}
